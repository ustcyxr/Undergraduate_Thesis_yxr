{
  "nbformat": 4,
  "nbformat_minor": 0,
  "metadata": {
    "colab": {
      "provenance": [],
      "gpuType": "T4"
    },
    "kernelspec": {
      "name": "python3",
      "display_name": "Python 3"
    },
    "language_info": {
      "name": "python"
    },
    "accelerator": "GPU"
  },
  "cells": [
    {
      "cell_type": "markdown",
      "source": [
        "读取文件夹的生成图片，计算IS"
      ],
      "metadata": {
        "id": "_E55h0VVdGqr"
      }
    },
    {
      "cell_type": "code",
      "source": [
        "#改变当前工作目录到谷歌云盘的路径\n",
        "from google.colab import drive\n",
        "drive.mount('/content/drive/')\n",
        "import os\n",
        "path=\"/content/drive/My Drive/Colab Notebooks/\"\n",
        "os.chdir(path)\n",
        "os.listdir(path)"
      ],
      "metadata": {
        "colab": {
          "base_uri": "https://localhost:8080/"
        },
        "id": "JfpImCZIXD4t",
        "outputId": "46c24898-c436-46ff-ea44-4183502159b3"
      },
      "execution_count": null,
      "outputs": [
        {
          "output_type": "stream",
          "name": "stdout",
          "text": [
            "Mounted at /content/drive/\n"
          ]
        },
        {
          "output_type": "execute_result",
          "data": {
            "text/plain": [
              "['Untitled5.ipynb',\n",
              " 'BRAIN-LARGE-scVI.ipynb',\n",
              " 'BRAIN-SMALL.ipynb',\n",
              " 'BRAIN-LARGE.ipynb',\n",
              " 'Untitled (1)',\n",
              " 'BRAIN-LARGE-prepro.ipynb',\n",
              " 'learn_scanpy.ipynb',\n",
              " 'Untitled0.ipynb',\n",
              " 'scvi_RETINA.ipynb',\n",
              " '“preprocessing.ipynb”的副本',\n",
              " 'Untitled1.ipynb',\n",
              " 'scvi_CORTEX.ipynb',\n",
              " 'reproduce_scvi_tutorial.ipynb',\n",
              " 'scScope.ipynb',\n",
              " '“ae_mnist_conv_jax.ipynb”的副本 (1)',\n",
              " '“ae_mnist_conv_jax.ipynb”的副本',\n",
              " '““ae-dae_on_mnist”的副本”的副本',\n",
              " '“ae_dae_on_fashionmnist”的副本',\n",
              " 'Untitled',\n",
              " 'cauculate_p.ipynb',\n",
              " 'Untitled2.ipynb',\n",
              " 'Untitled3.ipynb',\n",
              " 'self_ae.ipynb',\n",
              " 'self_vae.ipynb',\n",
              " 'data',\n",
              " 'new_IS.ipynb',\n",
              " 'my_gan.ipynb',\n",
              " 'my_vae.ipynb',\n",
              " 'my_dae.ipynb',\n",
              " 'my_diffusion.ipynb',\n",
              " 'my_sae.ipynb',\n",
              " 'my_ae.ipynb',\n",
              " 'IS.ipynb',\n",
              " 'FID.ipynb']"
            ]
          },
          "metadata": {},
          "execution_count": 2
        }
      ]
    },
    {
      "cell_type": "code",
      "execution_count": null,
      "metadata": {
        "colab": {
          "base_uri": "https://localhost:8080/"
        },
        "id": "91ieX9I0-kpm",
        "outputId": "8701245f-2760-414b-f4dd-f4fe94518755"
      },
      "outputs": [
        {
          "output_type": "stream",
          "name": "stdout",
          "text": [
            "Computing predictions using inception v3 model\n"
          ]
        },
        {
          "output_type": "stream",
          "name": "stderr",
          "text": [
            "\r  0%|          | 0/13 [00:00<?, ?it/s]"
          ]
        },
        {
          "output_type": "stream",
          "name": "stdout",
          "text": [
            "(50, 1000)\n"
          ]
        },
        {
          "output_type": "stream",
          "name": "stderr",
          "text": [
            "\r  8%|▊         | 1/13 [00:11<02:14, 11.22s/it]"
          ]
        },
        {
          "output_type": "stream",
          "name": "stdout",
          "text": [
            "(50, 1000)\n"
          ]
        },
        {
          "output_type": "stream",
          "name": "stderr",
          "text": [
            "\r 15%|█▌        | 2/13 [00:11<00:54,  4.95s/it]"
          ]
        },
        {
          "output_type": "stream",
          "name": "stdout",
          "text": [
            "(50, 1000)\n"
          ]
        },
        {
          "output_type": "stream",
          "name": "stderr",
          "text": [
            "\r 23%|██▎       | 3/13 [00:12<00:29,  2.94s/it]"
          ]
        },
        {
          "output_type": "stream",
          "name": "stdout",
          "text": [
            "(50, 1000)\n"
          ]
        },
        {
          "output_type": "stream",
          "name": "stderr",
          "text": [
            "\r 31%|███       | 4/13 [00:12<00:17,  1.98s/it]"
          ]
        },
        {
          "output_type": "stream",
          "name": "stdout",
          "text": [
            "(50, 1000)\n"
          ]
        },
        {
          "output_type": "stream",
          "name": "stderr",
          "text": [
            "\r 38%|███▊      | 5/13 [00:13<00:11,  1.46s/it]"
          ]
        },
        {
          "output_type": "stream",
          "name": "stdout",
          "text": [
            "(50, 1000)\n"
          ]
        },
        {
          "output_type": "stream",
          "name": "stderr",
          "text": [
            "\r 46%|████▌     | 6/13 [00:13<00:08,  1.15s/it]"
          ]
        },
        {
          "output_type": "stream",
          "name": "stdout",
          "text": [
            "(50, 1000)\n"
          ]
        },
        {
          "output_type": "stream",
          "name": "stderr",
          "text": [
            "\r 54%|█████▍    | 7/13 [00:14<00:05,  1.06it/s]"
          ]
        },
        {
          "output_type": "stream",
          "name": "stdout",
          "text": [
            "(50, 1000)\n"
          ]
        },
        {
          "output_type": "stream",
          "name": "stderr",
          "text": [
            "\r 62%|██████▏   | 8/13 [00:14<00:04,  1.23it/s]"
          ]
        },
        {
          "output_type": "stream",
          "name": "stdout",
          "text": [
            "(50, 1000)\n"
          ]
        },
        {
          "output_type": "stream",
          "name": "stderr",
          "text": [
            "\r 69%|██████▉   | 9/13 [00:15<00:02,  1.37it/s]"
          ]
        },
        {
          "output_type": "stream",
          "name": "stdout",
          "text": [
            "(50, 1000)\n"
          ]
        },
        {
          "output_type": "stream",
          "name": "stderr",
          "text": [
            "\r 77%|███████▋  | 10/13 [00:16<00:02,  1.48it/s]"
          ]
        },
        {
          "output_type": "stream",
          "name": "stdout",
          "text": [
            "(50, 1000)\n"
          ]
        },
        {
          "output_type": "stream",
          "name": "stderr",
          "text": [
            "\r 85%|████████▍ | 11/13 [00:16<00:01,  1.59it/s]"
          ]
        },
        {
          "output_type": "stream",
          "name": "stdout",
          "text": [
            "(50, 1000)\n"
          ]
        },
        {
          "output_type": "stream",
          "name": "stderr",
          "text": [
            "100%|██████████| 13/13 [00:17<00:00,  1.35s/it]"
          ]
        },
        {
          "output_type": "stream",
          "name": "stdout",
          "text": [
            "(32, 1000)\n",
            "Computing KL Divergence\n",
            "MAX IS is 29.5494\n",
            "The IS is 2.4168\n"
          ]
        },
        {
          "output_type": "stream",
          "name": "stderr",
          "text": [
            "\n"
          ]
        }
      ],
      "source": [
        "import torch\n",
        "from torch import nn\n",
        "from torch.nn import functional as F\n",
        "import torch.utils.data\n",
        "from torchvision.models.inception import inception_v3\n",
        "import numpy as np\n",
        "from tqdm import tqdm\n",
        "from PIL import Image\n",
        "import os\n",
        "from scipy.stats import entropy\n",
        "\n",
        "\n",
        "mean_inception = [0.485, 0.456, 0.406]\n",
        "std_inception = [0.229, 0.224, 0.225]\n",
        "\n",
        "def imread(filename):\n",
        "    \"\"\"\n",
        "    Loads an image file into a (height, width, 3) uint8 ndarray.\n",
        "    \"\"\"\n",
        "    return np.asarray(Image.open(filename), dtype=np.uint8)[..., :3]\n",
        "\n",
        "def inception_score(batch_size=50, resize=True, splits=10):\n",
        "\n",
        "    device = torch.device(\"cuda:0\")\n",
        "    inception_model = inception_v3(pretrained=True, transform_input=False).to(device)\n",
        "    inception_model.eval()\n",
        "    up = nn.Upsample(size=(299, 299), mode='bilinear', align_corners=False).to(device)\n",
        "\n",
        "    def get_pred(x):\n",
        "        if resize:\n",
        "            x = up(x)\n",
        "        x = inception_model(x)\n",
        "        return F.softmax(x, dim=1).data.cpu().numpy()\n",
        "\n",
        "\n",
        "    print('Computing predictions using inception v3 model')\n",
        "\n",
        "\n",
        "    files = readDir()\n",
        "    N = len(files)\n",
        "    preds = np.zeros((N, 1000))\n",
        "    if batch_size > N:\n",
        "        print(('Warning: batch size is bigger than the data size. '\n",
        "                 'Setting batch size to data size'))\n",
        "\n",
        "    for i in tqdm(range(0, N, batch_size)):\n",
        "        start = i\n",
        "        end = i + batch_size\n",
        "        images = np.array([imread(str(f)).astype(np.float32)\n",
        "                           for f in files[start:end]])\n",
        "\n",
        "\n",
        "        images = images.transpose((0, 3, 1, 2))\n",
        "        images /= 255\n",
        "\n",
        "        batch = torch.from_numpy(images).type(torch.FloatTensor)\n",
        "        batch = batch.to(device)\n",
        "        y = get_pred(batch)\n",
        "        print(y.shape)\n",
        "        preds[i :i  + batch_size] = get_pred(batch)\n",
        "\n",
        "\n",
        "    assert batch_size > 0\n",
        "    assert N > batch_size\n",
        "    print('Computing KL Divergence')\n",
        "    split_scores = []\n",
        "    for k in range(splits):\n",
        "        part = preds[k * (N // splits): (k + 1) * (N // splits), :] # split the whole data into several parts\n",
        "        py = np.mean(part, axis=0)\n",
        "        scores = []\n",
        "        for i in range(part.shape[0]):\n",
        "            pyx = part[i, :]\n",
        "            scores.append(entropy(pyx, py))\n",
        "        split_scores.append(np.exp(scores))\n",
        "\n",
        "    return np.max(split_scores), np.mean(split_scores)\n",
        "\n",
        "def readDir():\n",
        "    dirPath = r\"/content/drive/My Drive/diffusion_fashionmnist_images/\"\n",
        "    allFiles = []\n",
        "    if os.path.isdir(dirPath):\n",
        "        fileList = os.listdir(dirPath)\n",
        "        for f in fileList:\n",
        "            f = dirPath+'/'+f\n",
        "            if os.path.isdir(f):\n",
        "                subFiles = readDir(f)\n",
        "                allFiles = subFiles + allFiles\n",
        "            else:\n",
        "                allFiles.append(f)\n",
        "        return allFiles\n",
        "    else:\n",
        "        return 'Error,not a dir'\n",
        "\n",
        "MAX, IS= inception_score(splits=10)\n",
        "print('MAX IS is %.4f' % MAX)\n",
        "print('The IS is %.4f' % IS)\n"
      ]
    },
    {
      "cell_type": "code",
      "source": [],
      "metadata": {
        "id": "YPFmQr-mj5WU"
      },
      "execution_count": null,
      "outputs": []
    }
  ]
}
