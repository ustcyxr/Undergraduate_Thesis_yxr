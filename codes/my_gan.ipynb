{
  "nbformat": 4,
  "nbformat_minor": 0,
  "metadata": {
    "colab": {
      "provenance": [],
      "gpuType": "T4"
    },
    "kernelspec": {
      "name": "python3",
      "display_name": "Python 3"
    },
    "language_info": {
      "name": "python"
    },
    "accelerator": "GPU"
  },
  "cells": [
    {
      "cell_type": "code",
      "source": [
        "#改变当前工作目录到谷歌云盘的路径\n",
        "from google.colab import drive\n",
        "drive.mount('/content/drive/')\n",
        "import os\n",
        "path=\"/content/drive/My Drive/Colab Notebooks/\"\n",
        "os.chdir(path)\n",
        "os.listdir(path)"
      ],
      "metadata": {
        "id": "640ESkeMvarH",
        "colab": {
          "base_uri": "https://localhost:8080/"
        },
        "outputId": "77f29b1b-4509-4730-f15c-c50bd50175f5"
      },
      "execution_count": null,
      "outputs": [
        {
          "output_type": "stream",
          "name": "stdout",
          "text": [
            "Mounted at /content/drive/\n"
          ]
        },
        {
          "output_type": "execute_result",
          "data": {
            "text/plain": [
              "['Untitled5.ipynb',\n",
              " 'BRAIN-LARGE-scVI.ipynb',\n",
              " 'BRAIN-SMALL.ipynb',\n",
              " 'BRAIN-LARGE.ipynb',\n",
              " 'Untitled (1)',\n",
              " 'BRAIN-LARGE-prepro.ipynb',\n",
              " 'learn_scanpy.ipynb',\n",
              " 'Untitled0.ipynb',\n",
              " 'scvi_RETINA.ipynb',\n",
              " '“preprocessing.ipynb”的副本',\n",
              " 'Untitled1.ipynb',\n",
              " 'scvi_CORTEX.ipynb',\n",
              " 'reproduce_scvi_tutorial.ipynb',\n",
              " 'scScope.ipynb',\n",
              " '“ae_mnist_conv_jax.ipynb”的副本 (1)',\n",
              " '“ae_mnist_conv_jax.ipynb”的副本',\n",
              " '““ae-dae_on_mnist”的副本”的副本',\n",
              " '“ae_dae_on_fashionmnist”的副本',\n",
              " 'Untitled',\n",
              " 'cauculate_p.ipynb',\n",
              " 'Untitled2.ipynb',\n",
              " 'Untitled3.ipynb',\n",
              " 'self_ae.ipynb',\n",
              " 'self_vae.ipynb',\n",
              " 'data',\n",
              " 'new_IS.ipynb',\n",
              " 'IS.ipynb',\n",
              " 'fashionmnist_images',\n",
              " 'FID.ipynb',\n",
              " 'FID_nb.ipynb',\n",
              " 'my_vae.ipynb',\n",
              " 'my_ae.ipynb',\n",
              " 'my_sae.ipynb',\n",
              " 'my_dae.ipynb',\n",
              " 'my_diffusion.ipynb',\n",
              " 'my_gan.ipynb']"
            ]
          },
          "metadata": {},
          "execution_count": 1
        }
      ]
    },
    {
      "cell_type": "code",
      "execution_count": null,
      "metadata": {
        "id": "t3O8UJT_KqIf",
        "colab": {
          "base_uri": "https://localhost:8080/"
        },
        "outputId": "4de3d464-f94f-4a00-a8fc-59d16f5dfbd9"
      },
      "outputs": [
        {
          "output_type": "stream",
          "name": "stdout",
          "text": [
            "Collecting memory_profiler\n",
            "  Downloading memory_profiler-0.61.0-py3-none-any.whl (31 kB)\n",
            "Requirement already satisfied: psutil in /usr/local/lib/python3.10/dist-packages (from memory_profiler) (5.9.5)\n",
            "Installing collected packages: memory_profiler\n",
            "Successfully installed memory_profiler-0.61.0\n"
          ]
        }
      ],
      "source": [
        "#加载相应包\n",
        "!pip install memory_profiler\n",
        "%load_ext memory_profiler\n",
        "import torch\n",
        "import torch.nn as nn\n",
        "import numpy as np\n",
        "import pandas as pd\n",
        "import matplotlib.pyplot as plt\n",
        "from torch.utils.data import DataLoader\n",
        "from torchvision import datasets, transforms\n",
        "from torchvision.utils import save_image\n",
        "from torch import optim\n",
        "\n",
        "\n",
        "torch.manual_seed(0)\n",
        "np.random.seed(0)\n",
        "\n",
        "device = torch.device('cuda:0' if torch.cuda.is_available() else 'cpu')\n",
        "\n",
        "input_dim = 100\n",
        "batch_size = 64\n",
        "lr = 2e-4\n",
        "num_epoch = 10\n",
        "input_size = 28*28\n",
        "\n"
      ]
    },
    {
      "cell_type": "code",
      "source": [
        "#下载数据\n",
        "train_data = datasets.FashionMNIST(\n",
        "  root = \"data\",\n",
        "  train = True,\n",
        "  transform = transforms.ToTensor(),\n",
        "  download = True,\n",
        ")\n",
        "test_data = datasets.FashionMNIST(\n",
        "  root = \"data\",\n",
        "  train = False,\n",
        "  transform = transforms.ToTensor(),\n",
        "  download = True,\n",
        ")\n",
        "train_loader = DataLoader(train_data, batch_size, shuffle = True)\n",
        "test_loader = DataLoader(test_data, batch_size, shuffle = True)"
      ],
      "metadata": {
        "id": "mGJ0p7hIod2S"
      },
      "execution_count": null,
      "outputs": []
    },
    {
      "cell_type": "code",
      "source": [
        "#定义网络模型\n",
        "class Generator(nn.Module):\n",
        "  def __init__(self, input_dim):\n",
        "    super(Generator, self).__init__()\n",
        "    self.fc1 = nn.Linear(input_dim, 32 * 32)\n",
        "    self.br1 = nn.Sequential(\n",
        "        nn.BatchNorm1d(1024),\n",
        "        nn.ReLU()\n",
        "    )\n",
        "    self.fc2 = nn.Linear(32 * 32, 128 * 7 * 7)\n",
        "    self.br2 = nn.Sequential(\n",
        "        nn.BatchNorm1d(128 * 7 * 7),\n",
        "        nn.ReLU()\n",
        "    )\n",
        "    self.conv1 = nn.Sequential(\n",
        "        nn.ConvTranspose2d(128, 64, 4, stride=2, padding=1),\n",
        "        nn.BatchNorm2d(64),\n",
        "        nn.ReLU(),\n",
        "    )\n",
        "    self.conv2 = nn.Sequential(\n",
        "        nn.ConvTranspose2d(64, 1, 4, stride=2, padding=1),\n",
        "        nn.Sigmoid()\n",
        "    )\n",
        "\n",
        "  def forward(self, x):\n",
        "    x = self.br1(self.fc1(x))\n",
        "    x = self.br2(self.fc2(x))\n",
        "    x = x.reshape(-1, 128, 7, 7)\n",
        "    x = self.conv1(x)\n",
        "    output = self.conv2(x)\n",
        "    return output\n",
        "\n",
        "class Discriminator(nn.Module):\n",
        "  def __init__(self):\n",
        "    super(Discriminator, self).__init__()\n",
        "    self.conv1 = nn.Sequential(\n",
        "        nn.Conv2d(1, 32, 5, stride=1),\n",
        "        nn.LeakyReLU(0.2)\n",
        "    )\n",
        "    self.pl1 = nn.MaxPool2d(2, stride=2)\n",
        "    self.conv2 = nn.Sequential(\n",
        "        nn.Conv2d(32, 64, 5, stride=1),\n",
        "        nn.LeakyReLU(0.2)\n",
        "    )\n",
        "    self.pl2 = nn.MaxPool2d(2, stride=2)\n",
        "    self.fc1 = nn.Sequential(\n",
        "        nn.Linear(64 * 4 * 4, 1024),\n",
        "        nn.LeakyReLU(0.2)\n",
        "    )\n",
        "    self.fc2 = nn.Sequential(\n",
        "        nn.Linear(1024, 1),\n",
        "        nn.Sigmoid()\n",
        "    )\n",
        "\n",
        "  def forward(self, x):\n",
        "    x = self.conv1(x)\n",
        "    x = self.pl1(x)\n",
        "    x = self.conv2(x)\n",
        "    x = self.pl2(x)\n",
        "    x = x.view(x.shape[0], -1)\n",
        "    x = self.fc1(x)\n",
        "    output = self.fc2(x)\n",
        "    return output"
      ],
      "metadata": {
        "id": "ulSqEc6VoPWS"
      },
      "execution_count": null,
      "outputs": []
    },
    {
      "cell_type": "code",
      "source": [
        "#定义loss 训练ha\n",
        "G = Generator(input_dim).to(device)\n",
        "D = Discriminator().to(device)\n",
        "optim_G = torch.optim.Adam(G.parameters(), lr=lr)\n",
        "optim_D = torch.optim.Adam(D.parameters(), lr=lr)\n",
        "loss_fn = nn.BCELoss()\n",
        "\n",
        "def training(x):\n",
        "  real_x = x.to(device)\n",
        "  real_output = D(real_x)\n",
        "  real_loss = loss_fn(real_output, torch.ones_like(real_output).to(device))\n",
        "\n",
        "  fake_x = G(torch.randn([batch_size, input_dim]).to(device)).detach()\n",
        "  fake_output = D(fake_x)\n",
        "  fake_loss = loss_fn(fake_output, torch.zeros_like(fake_output).to(device))\n",
        "\n",
        "  loss_D = real_loss + fake_loss\n",
        "\n",
        "  optim_D.zero_grad()\n",
        "  loss_D.backward()\n",
        "  optim_D.step()\n",
        "\n",
        "  fake_x = G(torch.randn([batch_size, input_dim]).to(device))\n",
        "  fake_output = D(fake_x)\n",
        "  loss_G = loss_fn(fake_output, torch.ones_like(fake_output).to(device))\n",
        "\n",
        "  optim_G.zero_grad()\n",
        "  loss_G.backward()\n",
        "  optim_G.step()\n",
        "\n",
        "  return loss_D, loss_G\n",
        "\n"
      ],
      "metadata": {
        "id": "Ny_8-kP7pIdm"
      },
      "execution_count": null,
      "outputs": []
    },
    {
      "cell_type": "code",
      "source": [
        "#训练\n",
        "%%memit\n",
        "for epoch in range(num_epoch):\n",
        "  for step, (images, labels) in enumerate(train_loader):\n",
        "\n",
        "\n",
        "    loss_D, loss_G = training(images)\n",
        "\n",
        "  print(\"Epoch [{}/{}], Loss_D: {:.4f}, Loss_G: {:.4f} \".format(epoch+1, num_epoch, loss_D.item(), loss_G.item()))\n",
        "\n",
        "  x = torch.randn(64, input_dim).to(device)\n",
        "  img = G(x)\n"
      ],
      "metadata": {
        "id": "40KWnOMyK1hy",
        "colab": {
          "base_uri": "https://localhost:8080/"
        },
        "outputId": "cb60cc7d-486c-4aaf-b197-c3df63171f69"
      },
      "execution_count": null,
      "outputs": [
        {
          "output_type": "stream",
          "name": "stderr",
          "text": [
            "/usr/lib/python3.10/multiprocessing/popen_fork.py:66: RuntimeWarning: os.fork() was called. os.fork() is incompatible with multithreaded code, and JAX is multithreaded, so this will likely lead to a deadlock.\n",
            "  self.pid = os.fork()\n"
          ]
        },
        {
          "output_type": "stream",
          "name": "stdout",
          "text": [
            "Epoch [1/10], Loss_D: 0.9088, Loss_G: 1.4121 \n",
            "Epoch [2/10], Loss_D: 1.0380, Loss_G: 1.4897 \n",
            "Epoch [3/10], Loss_D: 1.2941, Loss_G: 1.1108 \n",
            "Epoch [4/10], Loss_D: 1.0094, Loss_G: 0.9958 \n",
            "Epoch [5/10], Loss_D: 1.1921, Loss_G: 0.9817 \n",
            "Epoch [6/10], Loss_D: 1.0020, Loss_G: 1.0069 \n",
            "Epoch [7/10], Loss_D: 1.1750, Loss_G: 1.0660 \n",
            "Epoch [8/10], Loss_D: 1.1305, Loss_G: 1.0371 \n",
            "Epoch [9/10], Loss_D: 1.0737, Loss_G: 1.1340 \n",
            "Epoch [10/10], Loss_D: 1.1949, Loss_G: 1.0941 \n",
            "peak memory: 1220.72 MiB, increment: 445.09 MiB\n"
          ]
        }
      ]
    },
    {
      "cell_type": "code",
      "source": [
        "#生成\n",
        "z = torch.randn(25, input_dim).to(device)\n",
        "generated_images = G(z).cpu()\n",
        "\n",
        "# DDPM生成MNIST新数据图片\n",
        "fig = plt.figure(figsize=(5, 5), constrained_layout=True)\n",
        "gs = fig.add_gridspec(5, 5)\n",
        "\n",
        "imgs = generated_images.detach().reshape(5, 5, 28, 28)\n",
        "for n_row in range(5):\n",
        "  for n_col in range(5):\n",
        "    f_ax = fig.add_subplot(gs[n_row, n_col])\n",
        "    f_ax.imshow((imgs[n_row, n_col]), cmap=\"gray\")\n",
        "    f_ax.axis(\"off\")\n"
      ],
      "metadata": {
        "id": "XjObhLTAtP_4",
        "colab": {
          "base_uri": "https://localhost:8080/",
          "height": 528
        },
        "outputId": "b947438f-ac8a-42c6-8048-1e7f5b8baeb7"
      },
      "execution_count": null,
      "outputs": [
        {
          "output_type": "display_data",
          "data": {
            "text/plain": [
              "<Figure size 500x500 with 25 Axes>"
            ],
            "image/png": "[encoded data removed]"
          },
          "metadata": {}
        }
      ]
    },
    {
      "cell_type": "code",
      "source": [
        "#下载生成数据\n",
        "import os\n",
        "from PIL import Image\n",
        "import torch\n",
        "\n",
        "# 检查目录是否存在，如果不存在则创建\n",
        "directory = '/content/drive/My Drive/gan_fashionmnist_images/'\n",
        "if not os.path.exists(directory):\n",
        "    os.makedirs(directory)\n",
        "\n",
        "num_samples = 1000\n",
        "# 假设latent_size已经定义，模型已加载到GPU\n",
        "latent_vectors = torch.randn(num_samples, input_dim).to(device)\n",
        "\n",
        "with torch.no_grad():\n",
        "    # 生成图像并转移到CPU\n",
        "    generated_images = G(latent_vectors).cpu()\n",
        "    # 重塑图像数据为[num_samples, 1, 28, 28]\n",
        "    generated_images = generated_images.view(num_samples, 1, 28, 28)\n",
        "\n",
        "for i, image in enumerate(generated_images):\n",
        "    # 去掉单一的颜色通道维度，因为这是灰度图像\n",
        "    image = image.squeeze(0)*255.0  # 将图像从[1, 28, 28]变为[28, 28]\n",
        "\n",
        "    # 将PyTorch张量转换为NumPy数组，并转换数据类型为uint8\n",
        "    pil_image = Image.fromarray(image.numpy().astype(np.uint8)).convert('RGB')\n",
        "    pil_image.save(f'/content/drive/My Drive/gan_fashionmnist_images/image_{i:05d}.png')"
      ],
      "metadata": {
        "id": "ELLhP664l_ul"
      },
      "execution_count": null,
      "outputs": []
    }
  ]
}
