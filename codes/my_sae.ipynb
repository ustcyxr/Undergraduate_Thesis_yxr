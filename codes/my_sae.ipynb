{
  "cells": [
    {
      "cell_type": "markdown",
      "source": [
        "SAE实现MNIST或FashionMNIST"
      ],
      "metadata": {
        "id": "ACPy-aeHAK8T"
      }
    },
    {
      "cell_type": "code",
      "execution_count": null,
      "metadata": {
        "colab": {
          "base_uri": "https://localhost:8080/"
        },
        "id": "MgbQLGAkuTzf",
        "outputId": "36a0c99c-98ca-4541-f718-c722e6b914d3"
      },
      "outputs": [
        {
          "output_type": "stream",
          "name": "stdout",
          "text": [
            "Collecting memory_profiler\n",
            "  Downloading memory_profiler-0.61.0-py3-none-any.whl (31 kB)\n",
            "Requirement already satisfied: psutil in /usr/local/lib/python3.10/dist-packages (from memory_profiler) (5.9.5)\n",
            "Installing collected packages: memory_profiler\n",
            "Successfully installed memory_profiler-0.61.0\n"
          ]
        }
      ],
      "source": [
        "#加载相应包\n",
        "!pip install memory_profiler\n",
        "%load_ext memory_profiler\n",
        "import numpy as np\n",
        "import pandas as pd\n",
        "import matplotlib.pyplot as plt\n",
        "import torch\n",
        "import torchvision\n",
        "import torch.nn as nn\n",
        "import torch.nn.functional as F\n",
        "import torch.optim as optim\n",
        "from torch.utils.data import DataLoader\n",
        "from torchvision import datasets, transforms\n",
        "\n",
        "torch.manual_seed(0)\n",
        "np.random.seed(0)\n",
        "\n",
        "#超参数设置\n",
        "num_epoch = 10\n",
        "batch_size = 64\n",
        "lr = 0.005\n",
        "N_TEST_IMG = 5\n",
        "\n",
        "device = torch.device(\"cuda\" if torch.cuda.is_available() else \"cpu\")"
      ]
    },
    {
      "cell_type": "code",
      "execution_count": null,
      "metadata": {
        "colab": {
          "base_uri": "https://localhost:8080/"
        },
        "id": "PuOMd7Up6jOg",
        "outputId": "4dc3f62d-2b01-4d26-8eca-f82b403d0e3c"
      },
      "outputs": [
        {
          "output_type": "stream",
          "name": "stdout",
          "text": [
            "Downloading http://fashion-mnist.s3-website.eu-central-1.amazonaws.com/train-images-idx3-ubyte.gz\n",
            "Downloading http://fashion-mnist.s3-website.eu-central-1.amazonaws.com/train-images-idx3-ubyte.gz to data/FashionMNIST/raw/train-images-idx3-ubyte.gz\n"
          ]
        },
        {
          "output_type": "stream",
          "name": "stderr",
          "text": [
            "100%|██████████| 26421880/26421880 [00:01<00:00, 15880685.85it/s]\n"
          ]
        },
        {
          "output_type": "stream",
          "name": "stdout",
          "text": [
            "Extracting data/FashionMNIST/raw/train-images-idx3-ubyte.gz to data/FashionMNIST/raw\n",
            "\n",
            "Downloading http://fashion-mnist.s3-website.eu-central-1.amazonaws.com/train-labels-idx1-ubyte.gz\n",
            "Downloading http://fashion-mnist.s3-website.eu-central-1.amazonaws.com/train-labels-idx1-ubyte.gz to data/FashionMNIST/raw/train-labels-idx1-ubyte.gz\n"
          ]
        },
        {
          "output_type": "stream",
          "name": "stderr",
          "text": [
            "100%|██████████| 29515/29515 [00:00<00:00, 276017.96it/s]\n"
          ]
        },
        {
          "output_type": "stream",
          "name": "stdout",
          "text": [
            "Extracting data/FashionMNIST/raw/train-labels-idx1-ubyte.gz to data/FashionMNIST/raw\n",
            "\n",
            "Downloading http://fashion-mnist.s3-website.eu-central-1.amazonaws.com/t10k-images-idx3-ubyte.gz\n",
            "Downloading http://fashion-mnist.s3-website.eu-central-1.amazonaws.com/t10k-images-idx3-ubyte.gz to data/FashionMNIST/raw/t10k-images-idx3-ubyte.gz\n"
          ]
        },
        {
          "output_type": "stream",
          "name": "stderr",
          "text": [
            "100%|██████████| 4422102/4422102 [00:00<00:00, 4982558.85it/s]\n"
          ]
        },
        {
          "output_type": "stream",
          "name": "stdout",
          "text": [
            "Extracting data/FashionMNIST/raw/t10k-images-idx3-ubyte.gz to data/FashionMNIST/raw\n",
            "\n",
            "Downloading http://fashion-mnist.s3-website.eu-central-1.amazonaws.com/t10k-labels-idx1-ubyte.gz\n",
            "Downloading http://fashion-mnist.s3-website.eu-central-1.amazonaws.com/t10k-labels-idx1-ubyte.gz to data/FashionMNIST/raw/t10k-labels-idx1-ubyte.gz\n"
          ]
        },
        {
          "output_type": "stream",
          "name": "stderr",
          "text": [
            "100%|██████████| 5148/5148 [00:00<00:00, 19176089.69it/s]"
          ]
        },
        {
          "output_type": "stream",
          "name": "stdout",
          "text": [
            "Extracting data/FashionMNIST/raw/t10k-labels-idx1-ubyte.gz to data/FashionMNIST/raw\n",
            "\n"
          ]
        },
        {
          "output_type": "stream",
          "name": "stderr",
          "text": [
            "\n"
          ]
        }
      ],
      "source": [
        "#下载数据\n",
        "train_data = datasets.FashionMNIST(\n",
        "  root = \"data\",\n",
        "  train = True,\n",
        "  transform = transforms.ToTensor(),\n",
        "  download = True,\n",
        ")\n",
        "test_data = datasets.FashionMNIST(\n",
        "  root = \"data\",\n",
        "  train = False,\n",
        "  transform = transforms.ToTensor(),\n",
        "  download = True,\n",
        ")\n",
        "train_loader = DataLoader(train_data, batch_size, shuffle = True)\n",
        "test_loader = DataLoader(test_data, batch_size, shuffle = True)"
      ]
    },
    {
      "cell_type": "code",
      "execution_count": null,
      "metadata": {
        "id": "EFNlxA056k3H"
      },
      "outputs": [],
      "source": [
        "class SparseAutoencoder(nn.Module):\n",
        "    def __init__(self, rho=0.05, beta=0.1):\n",
        "        super(SparseAutoencoder, self).__init__()\n",
        "        self.encoder = nn.Sequential(\n",
        "            nn.Linear(28*28, 128),\n",
        "            nn.ReLU(),\n",
        "            nn.Linear(128, 64),\n",
        "            nn.ReLU(),\n",
        "            nn.Linear(64, 12),\n",
        "            nn.ReLU(),\n",
        "            nn.Linear(12, 3),\n",
        "        )\n",
        "        self.decoder = nn.Sequential(\n",
        "            nn.Linear(3, 12),\n",
        "            nn.ReLU(),\n",
        "            nn.Linear(12, 64),\n",
        "            nn.ReLU(),\n",
        "            nn.Linear(64, 128),\n",
        "            nn.ReLU(),\n",
        "            nn.Linear(128, 28*28),\n",
        "            nn.Sigmoid(),\n",
        "        )\n",
        "        self.rho = rho  # Desired sparsity\n",
        "        self.beta = beta  # Sparsity penalty coefficient\n",
        "\n",
        "    def forward(self, x):\n",
        "        encoded = self.encoder(x)\n",
        "        decoded = self.decoder(encoded)\n",
        "        return encoded, decoded\n",
        "\n",
        "    def kl_divergence(self, rho, rho_hat):\n",
        "        rho_hat = torch.clamp(rho_hat, 1e-12, 1-1e-12)\n",
        "        return torch.sum(rho * torch.log(rho / rho_hat) + (1 - rho) * torch.log((1 - rho) / (1 - rho_hat)))\n",
        "\n",
        "    def compute_loss(self, decoded, x):\n",
        "        mse_loss = F.mse_loss(decoded, x)\n",
        "        rho_hat = torch.mean(F.sigmoid(self.encoder(x)), dim=0)  # Calculate mean activation using sigmoid to ensure values between 0 and 1\n",
        "        kl_loss = self.beta * self.kl_divergence(self.rho, rho_hat)\n",
        "        return mse_loss + kl_loss\n",
        "\n",
        "model = SparseAutoencoder().to(device)\n",
        "optimizer = optim.Adam(model.parameters(), lr=lr)"
      ]
    },
    {
      "cell_type": "code",
      "execution_count": null,
      "metadata": {
        "colab": {
          "base_uri": "https://localhost:8080/"
        },
        "id": "JZSRdO7J6nde",
        "outputId": "518807f2-d75f-4085-e9e9-cc3bde7df154"
      },
      "outputs": [
        {
          "output_type": "stream",
          "name": "stderr",
          "text": [
            "/usr/lib/python3.10/multiprocessing/popen_fork.py:66: RuntimeWarning: os.fork() was called. os.fork() is incompatible with multithreaded code, and JAX is multithreaded, so this will likely lead to a deadlock.\n",
            "  self.pid = os.fork()\n"
          ]
        },
        {
          "output_type": "stream",
          "name": "stdout",
          "text": [
            "Epoch [1/10], Loss: 0.0317\n",
            "Epoch [2/10], Loss: 0.0311\n",
            "Epoch [3/10], Loss: 0.0293\n",
            "Epoch [4/10], Loss: 0.0288\n",
            "Epoch [5/10], Loss: 0.0280\n",
            "Epoch [6/10], Loss: 0.0333\n",
            "Epoch [7/10], Loss: 0.0253\n",
            "Epoch [8/10], Loss: 0.0253\n",
            "Epoch [9/10], Loss: 0.0357\n",
            "Epoch [10/10], Loss: 0.0312\n",
            "peak memory: 1060.08 MiB, increment: 288.24 MiB\n"
          ]
        }
      ],
      "source": [
        "#训练\n",
        "%%memit\n",
        "model.train()\n",
        "for epoch in range(num_epoch):\n",
        "    for step, (images, _) in enumerate(train_loader):\n",
        "        images = images.to(device).view(-1, 28*28)\n",
        "        optimizer.zero_grad()\n",
        "        _, decoded = model(images)\n",
        "        loss = model.compute_loss(decoded, images)\n",
        "        loss.backward()\n",
        "        optimizer.step()\n",
        "    print(f\"Epoch [{epoch+1}/{num_epoch}], Loss: {loss.item():.4f}\")\n"
      ]
    },
    {
      "cell_type": "code",
      "execution_count": null,
      "metadata": {
        "colab": {
          "base_uri": "https://localhost:8080/",
          "height": 213
        },
        "id": "HoCFm0BV6t8M",
        "outputId": "c915155a-c549-442e-9d30-f9217d1ac1e2"
      },
      "outputs": [
        {
          "output_type": "display_data",
          "data": {
            "text/plain": [
              "<Figure size 2000x400 with 20 Axes>"
            ],
            "image/png": "[encoded data removed]"
          },
          "metadata": {}
        }
      ],
      "source": [
        "fig, axs = plt.subplots(2, 10, figsize=(20, 4))  # 2 行 10 列\n",
        "\n",
        "for i in range(10):\n",
        "    test_data = (train_data.data[i].view(-1, 28*28).type(torch.FloatTensor)/255).to(device)\n",
        "    _, result = model(test_data)\n",
        "    result = result.view(28, 28).detach().cpu().numpy()\n",
        "\n",
        "\n",
        "    axs[0, i].imshow(train_data.data[i].cpu().numpy(), cmap='gray')\n",
        "    axs[0, i].set_title('Test {}'.format(i))\n",
        "    axs[0, i].axis('off')\n",
        "\n",
        "    axs[1, i].imshow(result, cmap='gray')\n",
        "    axs[1, i].set_title('Recon {}'.format(i))\n",
        "    axs[1, i].axis('off')\n",
        "\n",
        "plt.show()"
      ]
    },
    {
      "cell_type": "code",
      "execution_count": null,
      "metadata": {
        "id": "pUGOXnwO6uX5"
      },
      "outputs": [],
      "source": []
    }
  ],
  "metadata": {
    "accelerator": "GPU",
    "colab": {
      "gpuType": "T4",
      "provenance": []
    },
    "kernelspec": {
      "display_name": "Python 3",
      "name": "python3"
    },
    "language_info": {
      "name": "python"
    }
  },
  "nbformat": 4,
  "nbformat_minor": 0
}
