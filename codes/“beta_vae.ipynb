{
  "nbformat": 4,
  "nbformat_minor": 0,
  "metadata": {
    "colab": {
      "provenance": [],
      "machine_shape": "hm",
      "gpuType": "T4"
    },
    "kernelspec": {
      "name": "python3",
      "display_name": "Python 3"
    },
    "language_info": {
      "name": "python"
    },
    "accelerator": "GPU"
  },
  "cells": [
    {
      "cell_type": "code",
      "source": [
        "#改变当前工作目录到谷歌云盘的路径\n",
        "from google.colab import drive\n",
        "drive.mount('/content/drive/')\n",
        "import os\n",
        "path=\"/content/drive/My Drive/Colab Notebooks/\"\n",
        "os.chdir(path)\n",
        "os.listdir(path)"
      ],
      "metadata": {
        "id": "E7T82KCf3u26",
        "colab": {
          "base_uri": "https://localhost:8080/"
        },
        "outputId": "16a403ea-a12b-444f-fa2e-b6a6a346f69d"
      },
      "execution_count": 1,
      "outputs": [
        {
          "output_type": "stream",
          "name": "stdout",
          "text": [
            "Mounted at /content/drive/\n"
          ]
        },
        {
          "output_type": "execute_result",
          "data": {
            "text/plain": [
              "['“beta_vae.ipynb”的副本',\n",
              " 'Untitled5.ipynb',\n",
              " 'BRAIN-LARGE-scVI.ipynb',\n",
              " 'BRAIN-SMALL.ipynb',\n",
              " 'BRAIN-LARGE.ipynb',\n",
              " 'Untitled (1)',\n",
              " 'BRAIN-LARGE-prepro.ipynb',\n",
              " 'learn_scanpy.ipynb',\n",
              " 'Untitled0.ipynb',\n",
              " 'scvi_RETINA.ipynb',\n",
              " '“preprocessing.ipynb”的副本',\n",
              " 'Untitled1.ipynb',\n",
              " 'scvi_CORTEX.ipynb',\n",
              " 'reproduce_scvi_tutorial.ipynb',\n",
              " 'scScope.ipynb',\n",
              " '“ae_mnist_conv_jax.ipynb”的副本 (1)',\n",
              " '“ae_mnist_conv_jax.ipynb”的副本',\n",
              " '““ae-dae_on_mnist”的副本”的副本',\n",
              " '“ae_dae_on_fashionmnist”的副本',\n",
              " 'Untitled',\n",
              " 'cauculate_p.ipynb',\n",
              " 'Untitled2.ipynb',\n",
              " 'Untitled3.ipynb',\n",
              " 'self_ae.ipynb',\n",
              " 'self_vae.ipynb',\n",
              " 'data',\n",
              " 'new_IS.ipynb',\n",
              " 'FID (1).ipynb',\n",
              " 'my_diffusion.ipynb',\n",
              " 'my_ae.ipynb',\n",
              " 'my_sae.ipynb',\n",
              " 'my_dae.ipynb',\n",
              " 'my_gan.ipynb',\n",
              " 'my_vae.ipynb',\n",
              " 'Untitled4.ipynb',\n",
              " 'FID.ipynb',\n",
              " 'IS.ipynb',\n",
              " 'visualization.ipynb']"
            ]
          },
          "metadata": {},
          "execution_count": 1
        }
      ]
    },
    {
      "cell_type": "code",
      "source": [
        "# 加载相应包\n",
        "import numpy as np\n",
        "import matplotlib.pyplot as plt\n",
        "import torch\n",
        "import torchvision\n",
        "import torch.nn as nn\n",
        "import torch.nn.functional as F\n",
        "import torch.optim as optim\n",
        "from torch.utils.data import DataLoader\n",
        "from torchvision import datasets, transforms\n",
        "from tqdm import tqdm\n",
        "\n",
        "torch.manual_seed(1)\n",
        "np.random.seed(1)\n",
        "\n",
        "# 超参数设置\n",
        "num_epoch = 20\n",
        "batch_size = 64\n",
        "lr = 1e-5\n",
        "latent_size = 128\n",
        "hidden_size = 256\n",
        "input_size = output_size = 32 * 32 * 3  # CIFAR-10是32x32的彩色图像\n",
        "KL_weight = 1 #VAE的beta\n",
        "\n",
        "device = torch.device(\"cuda\" if torch.cuda.is_available() else \"cpu\")\n"
      ],
      "metadata": {
        "id": "0wyglCmhMlrM"
      },
      "execution_count": 2,
      "outputs": []
    },
    {
      "cell_type": "code",
      "source": [
        "#下载数据\n",
        "train_data = datasets.CIFAR10(root=\"data\", train=True, transform=transforms.ToTensor(), download=True)\n",
        "test_data = datasets.CIFAR10(root=\"data\", train=False, transform=transforms.ToTensor(), download=True)\n",
        "train_loader = DataLoader(train_data, batch_size, shuffle=True)\n",
        "test_loader = DataLoader(test_data, batch_size, shuffle=False)\n"
      ],
      "metadata": {
        "id": "hKrG3NEeMqkM",
        "colab": {
          "base_uri": "https://localhost:8080/"
        },
        "outputId": "b6f18acd-a4dd-4883-f013-f85330c993ad"
      },
      "execution_count": 3,
      "outputs": [
        {
          "output_type": "stream",
          "name": "stdout",
          "text": [
            "Files already downloaded and verified\n",
            "Files already downloaded and verified\n"
          ]
        }
      ]
    },
    {
      "cell_type": "code",
      "source": [
        "class Encoder(nn.Module):\n",
        "    def __init__(self, input_channels, hidden_size, latent_size):\n",
        "        super(Encoder, self).__init__()\n",
        "        self.conv1 = nn.Conv2d(input_channels, 16, kernel_size=3, padding=1)\n",
        "        self.bn1 = nn.BatchNorm2d(16)  # 批归一化\n",
        "        self.conv2 = nn.Conv2d(16, hidden_size//2, kernel_size=3, padding=1)\n",
        "        self.bn2 = nn.BatchNorm2d(hidden_size//2)\n",
        "        self.fc_mu = nn.Linear(hidden_size//2 * 32 * 32, latent_size)\n",
        "        self.fc_sigma = nn.Linear(hidden_size//2 * 32 * 32, latent_size)\n",
        "\n",
        "    def forward(self, x):\n",
        "        x = F.relu(self.conv1(x))\n",
        "        x = F.relu(self.conv2(x))\n",
        "        x = x.view(x.size(0), -1)\n",
        "        mu = self.fc_mu(x)\n",
        "        sigma = self.fc_sigma(x)\n",
        "        return mu, sigma\n",
        "\n",
        "class Decoder(nn.Module):\n",
        "    def __init__(self, latent_size, hidden_size, output_channels):\n",
        "        super(Decoder, self).__init__()\n",
        "        self.fc = nn.Linear(latent_size, hidden_size * 32 * 32)\n",
        "        self.deconv1 = nn.ConvTranspose2d(hidden_size, 16, kernel_size=3, padding=1)  # 反卷积层\n",
        "        self.deconv2 = nn.ConvTranspose2d(16, output_channels, kernel_size=3, padding=1)  # 反卷积层\n",
        "\n",
        "    def forward(self, x):\n",
        "        x = self.fc(x)\n",
        "        x = x.view(x.size(0), hidden_size, 32, 32)\n",
        "        x = F.relu(self.deconv1(x))\n",
        "        x = torch.sigmoid(self.deconv2(x))  # 确保输出在[0, 1]范围内\n",
        "        return x\n",
        "\n",
        "\n",
        "class VAE(nn.Module):\n",
        "    def __init__(self, input_channels, output_channels, latent_size, hidden_size):\n",
        "        super(VAE, self).__init__()\n",
        "        self.encoder = Encoder(input_channels, hidden_size, latent_size)\n",
        "        self.decoder = Decoder(latent_size, hidden_size, output_channels)\n",
        "\n",
        "    def forward(self, x):\n",
        "        mu, sigma = self.encoder(x)\n",
        "        eps = torch.randn_like(sigma)\n",
        "        z = mu + eps * sigma\n",
        "        re_x = self.decoder(z)\n",
        "        return re_x, mu, sigma\n",
        "\n",
        "input_channels = 3\n",
        "output_channels = 3\n",
        "model = VAE(input_channels, output_channels, latent_size, hidden_size).to(device)\n",
        "optimizer = optim.Adam(model.parameters(), lr=lr)\n",
        "#交叉熵\n",
        "loss_BCE = torch.nn.BCELoss(reduction = 'sum')\n",
        "#均方误差\n",
        "loss_MSE = torch.nn.MSELoss(reduction = 'sum')\n",
        "#KL散度，衡量正态分布(mu,sigma)与正态分布(0,1)的差异\n",
        "loss_KLD = lambda mu,sigma: -0.5 * torch.sum(1 + torch.log(sigma**2) - mu.pow(2) - sigma**2)\n"
      ],
      "metadata": {
        "id": "k0IEknbnIoHt"
      },
      "execution_count": 4,
      "outputs": []
    },
    {
      "cell_type": "code",
      "source": [
        "# 训练\n",
        "model.train()\n",
        "for epoch in range(num_epoch):\n",
        "    for step, (images, labels) in enumerate(train_loader):\n",
        "        images = images.to(device)\n",
        "        re_images, mu, sigma = model(images)\n",
        "\n",
        "        loss_re = loss_MSE(re_images, images)\n",
        "        loss_norm = loss_KLD(mu, sigma)\n",
        "        loss = loss_re + KL_weight * loss_norm\n",
        "\n",
        "        optimizer.zero_grad()\n",
        "        loss.backward()\n",
        "        optimizer.step()\n",
        "    print(f\"Epoch [{epoch+1}/{num_epoch}], Loss: {loss.item():.4f}\")\n",
        "\n"
      ],
      "metadata": {
        "id": "5blBHKOL-QPf",
        "colab": {
          "base_uri": "https://localhost:8080/"
        },
        "outputId": "39bba4e9-ae8a-44a6-a84c-812929b8beb8"
      },
      "execution_count": 5,
      "outputs": [
        {
          "output_type": "stream",
          "name": "stdout",
          "text": [
            "Epoch [1/20], Loss: 2344.4456\n",
            "Epoch [2/20], Loss: 2264.1064\n",
            "Epoch [3/20], Loss: 1962.8945\n",
            "Epoch [4/20], Loss: 1728.9882\n",
            "Epoch [5/20], Loss: 1778.2025\n",
            "Epoch [6/20], Loss: 1518.5410\n",
            "Epoch [7/20], Loss: 1590.4445\n",
            "Epoch [8/20], Loss: 1849.0073\n",
            "Epoch [9/20], Loss: 1587.8059\n",
            "Epoch [10/20], Loss: 1497.6971\n",
            "Epoch [11/20], Loss: 1538.4865\n",
            "Epoch [12/20], Loss: 1332.3402\n",
            "Epoch [13/20], Loss: 1437.4685\n",
            "Epoch [14/20], Loss: 1403.4502\n",
            "Epoch [15/20], Loss: 1403.7136\n",
            "Epoch [16/20], Loss: 1535.7992\n",
            "Epoch [17/20], Loss: 1213.5748\n",
            "Epoch [18/20], Loss: 1294.7059\n",
            "Epoch [19/20], Loss: 1247.4070\n",
            "Epoch [20/20], Loss: 1183.7899\n"
          ]
        }
      ]
    },
    {
      "cell_type": "code",
      "source": [
        "import matplotlib.pyplot as plt\n",
        "import torchvision\n",
        "\n",
        "dataiter = iter(test_loader)\n",
        "images, _ = next(dataiter)\n",
        "images = images[:10].to(device)\n",
        "\n",
        "\n",
        "with torch.no_grad():\n",
        "    images_flattened = images.view(-1, input_size)\n",
        "    reconstructed, _, _ = model(images)\n",
        "\n",
        "reconstructed = reconstructed.view(10, 3, 32, 32)\n",
        "images = images.view(10, 3, 32, 32)\n",
        "\n",
        "fig, axs = plt.subplots(1, 10, figsize=(20, 4))\n",
        "\n",
        "for i in range(10):\n",
        "    img = images[i].permute(1, 2, 0).cpu().numpy()\n",
        "    img_reconstructed = reconstructed[i].permute(1, 2, 0).cpu().numpy()\n",
        "\n",
        "    img = np.clip(img, 0, 1)\n",
        "    img_reconstructed = np.clip(img_reconstructed, 0, 1)\n",
        "\n",
        "    # axs[i].imshow(img)\n",
        "    # axs[i].axis('off')\n",
        "\n",
        "    axs[i].imshow(img_reconstructed)\n",
        "    axs[i].axis('off')\n",
        "\n",
        "\n",
        "\n",
        "plt.show()\n"
      ],
      "metadata": {
        "id": "wujItGavMAf7",
        "colab": {
          "base_uri": "https://localhost:8080/",
          "height": 140
        },
        "outputId": "8ae9f850-278b-4175-872a-66cf091f1c6d"
      },
      "execution_count": 6,
      "outputs": [
        {
          "output_type": "display_data",
          "data": {
            "text/plain": [
              "<Figure size 2000x400 with 10 Axes>"
            ],
            "image/png": "[encoded data removed]"
          },
          "metadata": {}
        }
      ]
    },
    {
      "cell_type": "code",
      "source": [
        "#生成图片并下载\n",
        "import os\n",
        "from PIL import Image\n",
        "import torch\n",
        "import numpy as np\n",
        "\n",
        "directory = '/content/drive/My Drive/vae_cifar10_1_images/'\n",
        "if not os.path.exists(directory):\n",
        "    os.makedirs(directory)\n",
        "\n",
        "num_samples = 1000\n",
        "device = 'cuda'\n",
        "latent_size = 128\n",
        "latent_vectors = torch.randn(num_samples, latent_size).to(device)\n",
        "\n",
        "with torch.no_grad():\n",
        "    generated_images = model.decoder(latent_vectors).cpu()\n",
        "    generated_images = generated_images.view(num_samples, 3, 32, 32)\n",
        "\n",
        "for i, image in enumerate(generated_images):\n",
        "    image = image.permute(1, 2, 0) * 255.0\n",
        "    pil_image = Image.fromarray(image.numpy().astype(np.uint8))\n",
        "    pil_image.save(f'/content/drive/My Drive/vae_cifar10_1_images/image_{i:05d}.png')\n"
      ],
      "metadata": {
        "id": "hgJAdIAT3D6_"
      },
      "execution_count": 7,
      "outputs": []
    }
  ]
}