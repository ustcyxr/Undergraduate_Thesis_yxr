{
  "nbformat": 4,
  "nbformat_minor": 0,
  "metadata": {
    "colab": {
      "provenance": [],
      "gpuType": "T4"
    },
    "kernelspec": {
      "name": "python3",
      "display_name": "Python 3"
    },
    "language_info": {
      "name": "python"
    },
    "accelerator": "GPU"
  },
  "cells": [
    {
      "cell_type": "markdown",
      "source": [
        "AE实现MNIST或FashionMNIST"
      ],
      "metadata": {
        "id": "QNVbJvgMOM-q"
      }
    },
    {
      "cell_type": "code",
      "execution_count": null,
      "metadata": {
        "id": "93dNqOvCCyIz",
        "colab": {
          "base_uri": "https://localhost:8080/"
        },
        "outputId": "79fe0355-5bb4-482a-a33c-670d39b4120d"
      },
      "outputs": [
        {
          "output_type": "stream",
          "name": "stdout",
          "text": [
            "Collecting memory_profiler\n",
            "  Downloading memory_profiler-0.61.0-py3-none-any.whl (31 kB)\n",
            "Requirement already satisfied: psutil in /usr/local/lib/python3.10/dist-packages (from memory_profiler) (5.9.5)\n",
            "Installing collected packages: memory_profiler\n",
            "Successfully installed memory_profiler-0.61.0\n"
          ]
        }
      ],
      "source": [
        "#加载相应包\n",
        "!pip install memory_profiler\n",
        "%load_ext memory_profiler\n",
        "import numpy as np\n",
        "import pandas as pd\n",
        "import matplotlib.pyplot as plt\n",
        "import torch\n",
        "import torchvision\n",
        "import torch.nn as nn\n",
        "import torch.nn.functional as F\n",
        "import torch.optim as optim\n",
        "from torch.utils.data import DataLoader\n",
        "from torchvision import datasets, transforms\n",
        "\n",
        "torch.manual_seed(0)\n",
        "np.random.seed(0)\n",
        "\n",
        "#超参数设置\n",
        "num_epoch = 10\n",
        "batch_size = 64\n",
        "lr = 0.005\n",
        "\n",
        "device = torch.device(\"cuda\" if torch.cuda.is_available() else \"cpu\")"
      ]
    },
    {
      "cell_type": "code",
      "source": [
        "#下载数据\n",
        "train_data = datasets.FashionMNIST(\n",
        "  root = \"data\",\n",
        "  train = True,\n",
        "  transform = transforms.ToTensor(),\n",
        "  download = True,\n",
        ")\n",
        "test_data = datasets.FashionMNIST(\n",
        "  root = \"data\",\n",
        "  train = False,\n",
        "  transform = transforms.ToTensor(),\n",
        "  download = True,\n",
        ")\n",
        "train_loader = DataLoader(train_data, batch_size, shuffle = True)\n",
        "test_loader = DataLoader(test_data, batch_size, shuffle = True)"
      ],
      "metadata": {
        "id": "pO_0aO-SDDi3",
        "colab": {
          "base_uri": "https://localhost:8080/"
        },
        "outputId": "12c97673-3bf3-4671-c454-c2d325a0d282"
      },
      "execution_count": null,
      "outputs": [
        {
          "output_type": "stream",
          "name": "stdout",
          "text": [
            "Downloading http://fashion-mnist.s3-website.eu-central-1.amazonaws.com/train-images-idx3-ubyte.gz\n",
            "Downloading http://fashion-mnist.s3-website.eu-central-1.amazonaws.com/train-images-idx3-ubyte.gz to data/FashionMNIST/raw/train-images-idx3-ubyte.gz\n"
          ]
        },
        {
          "output_type": "stream",
          "name": "stderr",
          "text": [
            "100%|██████████| 26421880/26421880 [00:01<00:00, 16075022.35it/s]\n"
          ]
        },
        {
          "output_type": "stream",
          "name": "stdout",
          "text": [
            "Extracting data/FashionMNIST/raw/train-images-idx3-ubyte.gz to data/FashionMNIST/raw\n",
            "\n",
            "Downloading http://fashion-mnist.s3-website.eu-central-1.amazonaws.com/train-labels-idx1-ubyte.gz\n",
            "Downloading http://fashion-mnist.s3-website.eu-central-1.amazonaws.com/train-labels-idx1-ubyte.gz to data/FashionMNIST/raw/train-labels-idx1-ubyte.gz\n"
          ]
        },
        {
          "output_type": "stream",
          "name": "stderr",
          "text": [
            "100%|██████████| 29515/29515 [00:00<00:00, 272088.62it/s]\n"
          ]
        },
        {
          "output_type": "stream",
          "name": "stdout",
          "text": [
            "Extracting data/FashionMNIST/raw/train-labels-idx1-ubyte.gz to data/FashionMNIST/raw\n",
            "\n",
            "Downloading http://fashion-mnist.s3-website.eu-central-1.amazonaws.com/t10k-images-idx3-ubyte.gz\n",
            "Downloading http://fashion-mnist.s3-website.eu-central-1.amazonaws.com/t10k-images-idx3-ubyte.gz to data/FashionMNIST/raw/t10k-images-idx3-ubyte.gz\n"
          ]
        },
        {
          "output_type": "stream",
          "name": "stderr",
          "text": [
            "100%|██████████| 4422102/4422102 [00:00<00:00, 5018288.67it/s]\n"
          ]
        },
        {
          "output_type": "stream",
          "name": "stdout",
          "text": [
            "Extracting data/FashionMNIST/raw/t10k-images-idx3-ubyte.gz to data/FashionMNIST/raw\n",
            "\n",
            "Downloading http://fashion-mnist.s3-website.eu-central-1.amazonaws.com/t10k-labels-idx1-ubyte.gz\n",
            "Downloading http://fashion-mnist.s3-website.eu-central-1.amazonaws.com/t10k-labels-idx1-ubyte.gz to data/FashionMNIST/raw/t10k-labels-idx1-ubyte.gz\n"
          ]
        },
        {
          "output_type": "stream",
          "name": "stderr",
          "text": [
            "100%|██████████| 5148/5148 [00:00<00:00, 13512063.20it/s]\n"
          ]
        },
        {
          "output_type": "stream",
          "name": "stdout",
          "text": [
            "Extracting data/FashionMNIST/raw/t10k-labels-idx1-ubyte.gz to data/FashionMNIST/raw\n",
            "\n"
          ]
        }
      ]
    },
    {
      "cell_type": "code",
      "source": [
        "#定义网络模型，loss，优化器\n",
        "class Autoencoder(nn.Module):\n",
        "  def __init__(self):\n",
        "    super(Autoencoder, self).__init__()\n",
        "    self.encoder = nn.Sequential(\n",
        "      nn.Linear(28*28, 128),\n",
        "      nn.ReLU(),\n",
        "      nn.Linear(128, 64),\n",
        "      nn.ReLU(),\n",
        "      nn.Linear(64, 12),\n",
        "      nn.ReLU(),\n",
        "      nn.Linear(12, 3),\n",
        "    )\n",
        "    self.decoder = nn.Sequential(\n",
        "      nn.Linear(3, 12),\n",
        "      nn.ReLU(),\n",
        "      nn.Linear(12, 64),\n",
        "      nn.ReLU(),\n",
        "      nn.Linear(64, 128),\n",
        "      nn.ReLU(),\n",
        "      nn.Linear(128, 28*28),\n",
        "      nn.Sigmoid(),\n",
        "    )\n",
        "\n",
        "  def forward(self, x):\n",
        "    encoded = self.encoder(x)\n",
        "    decoded = self.decoder(encoded)\n",
        "    return encoded, decoded\n",
        "\n",
        "model = Autoencoder().to(device)\n",
        "\n",
        "loss_fn = nn.MSELoss()\n",
        "optimizer = optim.Adam(model.parameters(), lr = lr)"
      ],
      "metadata": {
        "id": "0KjyZ0myDFtm"
      },
      "execution_count": null,
      "outputs": []
    },
    {
      "cell_type": "code",
      "source": [
        "#训练\n",
        "%%memit\n",
        "model.train()\n",
        "for epoch in range(num_epoch):\n",
        "  for step, (images, labels) in enumerate(train_loader):\n",
        "    images, labels = images.to(device).view(-1, 28*28), labels.to(device)\n",
        "    encoded, decoded = model(images)\n",
        "    loss = loss_fn(decoded, images)\n",
        "\n",
        "    optimizer.zero_grad()\n",
        "    loss.backward()\n",
        "    optimizer.step()\n",
        "\n",
        "  print(\"Epoch [{}/{}], Loss: {:.4f}\"\n",
        "            .format(epoch+1, num_epoch, loss.item()))"
      ],
      "metadata": {
        "id": "AlCJf2cXGX1L",
        "colab": {
          "base_uri": "https://localhost:8080/"
        },
        "outputId": "4a877631-f52d-40b2-cd70-d5feeed10ee5"
      },
      "execution_count": null,
      "outputs": [
        {
          "output_type": "stream",
          "name": "stderr",
          "text": [
            "/usr/lib/python3.10/multiprocessing/popen_fork.py:66: RuntimeWarning: os.fork() was called. os.fork() is incompatible with multithreaded code, and JAX is multithreaded, so this will likely lead to a deadlock.\n",
            "  self.pid = os.fork()\n"
          ]
        },
        {
          "output_type": "stream",
          "name": "stdout",
          "text": [
            "Epoch [1/10], Loss: 0.0240\n",
            "Epoch [2/10], Loss: 0.0216\n",
            "Epoch [3/10], Loss: 0.0226\n",
            "Epoch [4/10], Loss: 0.0225\n",
            "Epoch [5/10], Loss: 0.0243\n",
            "Epoch [6/10], Loss: 0.0201\n",
            "Epoch [7/10], Loss: 0.0195\n",
            "Epoch [8/10], Loss: 0.0276\n",
            "Epoch [9/10], Loss: 0.0219\n",
            "Epoch [10/10], Loss: 0.0195\n",
            "peak memory: 981.68 MiB, increment: 4.37 MiB\n"
          ]
        }
      ]
    },
    {
      "cell_type": "code",
      "source": [
        "#原图与重构图的对比\n",
        "fig, axs = plt.subplots(2, 10, figsize=(20, 4))  # 2 行 10 列\n",
        "\n",
        "for i in range(10):\n",
        "    test_data = (train_data.data[i].view(-1, 28*28).type(torch.FloatTensor)/255).to(device)\n",
        "    _, result = model(test_data)\n",
        "    result = result.view(28, 28).detach().cpu().numpy()\n",
        "\n",
        "\n",
        "    axs[0, i].imshow(train_data.data[i].cpu().numpy(), cmap='gray')\n",
        "    axs[0, i].set_title('Test {}'.format(i))\n",
        "    axs[0, i].axis('off')\n",
        "\n",
        "    axs[1, i].imshow(result, cmap='gray')\n",
        "    axs[1, i].set_title('Recon {}'.format(i))\n",
        "    axs[1, i].axis('off')\n",
        "\n",
        "plt.show()"
      ],
      "metadata": {
        "colab": {
          "base_uri": "https://localhost:8080/",
          "height": 347
        },
        "id": "JuWBTU83EhaV",
        "outputId": "d30c75ed-15b6-4fd8-a929-727897273928"
      },
      "execution_count": null,
      "outputs": [
        {
          "output_type": "display_data",
          "data": {
            "text/plain": [
              "<Figure size 2000x400 with 20 Axes>"
            ],
            "image/png": "[encoded data removed]"
          },
          "metadata": {}
        }
      ]
    }
  ]
}
